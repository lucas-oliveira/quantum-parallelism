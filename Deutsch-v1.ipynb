{
 "cells": [
  {
   "cell_type": "code",
   "execution_count": 174,
   "id": "aaa9d8b1",
   "metadata": {},
   "outputs": [],
   "source": [
    "import numpy as np\n",
    "from qiskit import QuantumCircuit, transpile, QuantumRegister\n",
    "from qiskit.providers.aer import QasmSimulator\n",
    "from qiskit.visualization import plot_histogram\n",
    "import matplotlib.pyplot as plt\n"
   ]
  },
  {
   "cell_type": "code",
   "execution_count": 175,
   "id": "0e74e75b",
   "metadata": {},
   "outputs": [
    {
     "data": {
      "text/plain": [
       "<qiskit.circuit.instructionset.InstructionSet at 0x1c4cef06f40>"
      ]
     },
     "execution_count": 175,
     "metadata": {},
     "output_type": "execute_result"
    }
   ],
   "source": [
    "circuit = QuantumCircuit(2,1)\n",
    "\n",
    "circuit.x(1)\n",
    "circuit.h(0)\n",
    "circuit.h(1)\n",
    "\n",
    "circuit.barrier()\n"
   ]
  },
  {
   "cell_type": "code",
   "execution_count": 176,
   "id": "20efd07f",
   "metadata": {},
   "outputs": [],
   "source": [
    "#oráculo\n",
    "\n",
    "def oracle(type):\n",
    "    oracle_circ = QuantumCircuit(QuantumRegister(2))\n",
    "    \n",
    "    if type == 1: #balanced\n",
    "        oracle_circ.cx(0,1)\n",
    "        print(1)\n",
    "    if type == 2: #constant    \n",
    "        oracle_circ.x(1)\n",
    "        print(2)\n",
    "\n",
    "    \n",
    "    black_box_gate = oracle_circ.to_gate()\n",
    "    black_box_gate.name = 'Uf(x)' +str(type)\n",
    "    return black_box_gate\n",
    "    "
   ]
  },
  {
   "cell_type": "code",
   "execution_count": 177,
   "id": "6f45d79a",
   "metadata": {},
   "outputs": [
    {
     "name": "stdout",
     "output_type": "stream",
     "text": [
      "1\n"
     ]
    },
    {
     "data": {
      "text/plain": [
       "<qiskit.circuit.instructionset.InstructionSet at 0x1c4cef4f100>"
      ]
     },
     "execution_count": 177,
     "metadata": {},
     "output_type": "execute_result"
    }
   ],
   "source": [
    "circuit.append(oracle(1), range(2))\n",
    "\n",
    "circuit.barrier()\n",
    "circuit.h(0)\n",
    "circuit.measure(0,0)"
   ]
  },
  {
   "cell_type": "code",
   "execution_count": 178,
   "id": "78c0de1c",
   "metadata": {},
   "outputs": [
    {
     "name": "stdout",
     "output_type": "stream",
     "text": [
      "     ┌───┐      ░ ┌─────────┐ ░ ┌───┐┌─┐\n",
      "q_0: ┤ H ├──────░─┤0        ├─░─┤ H ├┤M├\n",
      "     ├───┤┌───┐ ░ │  Uf(x)1 │ ░ └───┘└╥┘\n",
      "q_1: ┤ X ├┤ H ├─░─┤1        ├─░───────╫─\n",
      "     └───┘└───┘ ░ └─────────┘ ░       ║ \n",
      "c: 1/═════════════════════════════════╩═\n",
      "                                      0 \n"
     ]
    }
   ],
   "source": [
    "print(circuit)"
   ]
  },
  {
   "cell_type": "code",
   "execution_count": 179,
   "id": "cf6b7157",
   "metadata": {},
   "outputs": [],
   "source": [
    "simulator = QasmSimulator()\n",
    "compiled_circuit = transpile(circuit, simulator)\n",
    "job = simulator.run(compiled_circuit, shots=1000)\n",
    "result = job.result()"
   ]
  },
  {
   "cell_type": "code",
   "execution_count": 180,
   "id": "1e4a9927",
   "metadata": {},
   "outputs": [
    {
     "data": {
      "text/plain": [
       "{'1': 1000}"
      ]
     },
     "execution_count": 180,
     "metadata": {},
     "output_type": "execute_result"
    }
   ],
   "source": [
    "result.get_counts()"
   ]
  },
  {
   "cell_type": "code",
   "execution_count": 181,
   "id": "56faf8ac",
   "metadata": {},
   "outputs": [
    {
     "data": {
      "image/png": "[encoded data removed]",
      "text/plain": [
       "<Figure size 504x360 with 1 Axes>"
      ]
     },
     "execution_count": 181,
     "metadata": {},
     "output_type": "execute_result"
    }
   ],
   "source": [
    "plot_histogram(result.get_counts())"
   ]
  },
  {
   "cell_type": "code",
   "execution_count": null,
   "id": "682919d2",
   "metadata": {},
   "outputs": [],
   "source": []
  }
 ],
 "metadata": {
  "kernelspec": {
   "display_name": "Python 3 (ipykernel)",
   "language": "python",
   "name": "python3"
  },
  "language_info": {
   "codemirror_mode": {
    "name": "ipython",
    "version": 3
   },
   "file_extension": ".py",
   "mimetype": "text/x-python",
   "name": "python",
   "nbconvert_exporter": "python",
   "pygments_lexer": "ipython3",
   "version": "3.9.12"
  }
 },
 "nbformat": 4,
 "nbformat_minor": 5
}
